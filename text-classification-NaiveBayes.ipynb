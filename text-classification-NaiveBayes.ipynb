{
 "cells": [
  {
   "cell_type": "code",
   "execution_count": 83,
   "metadata": {},
   "outputs": [],
   "source": [
    "import pandas as pd\n",
    "from tqdm import tqdm\n",
    "import numpy as np\n",
    "import string\n",
    "from pyvi import ViTokenizer, ViPosTagger\n",
    "from sklearn.preprocessing import LabelEncoder\n",
    "from sklearn.model_selection import train_test_split\n",
    "from sklearn.metrics import mean_squared_error, r2_score, classification_report, confusion_matrix, ConfusionMatrixDisplay\n",
    "from sklearn.feature_extraction.text import TfidfVectorizer\n",
    "from sklearn.neighbors import KNeighborsClassifier\n",
    "from sklearn.model_selection import GridSearchCV\n",
    "from gensim.models import word2vec\n",
    "from tensorflow.keras import preprocessing\n",
    "from src.dtprocess import cleandt"
   ]
  },
  {
   "cell_type": "markdown",
   "metadata": {},
   "source": [
    "## Import and Adjust data"
   ]
  },
  {
   "cell_type": "code",
   "execution_count": 5,
   "metadata": {},
   "outputs": [
    {
     "name": "stdout",
     "output_type": "stream",
     "text": [
      "<class 'pandas.core.frame.DataFrame'>\n",
      "RangeIndex: 2474 entries, 0 to 2473\n",
      "Data columns (total 4 columns):\n",
      " #   Column      Non-Null Count  Dtype \n",
      "---  ------      --------------  ----- \n",
      " 0   article_id  2474 non-null   int64 \n",
      " 1   topic       2474 non-null   object\n",
      " 2   sub-topic   2474 non-null   object\n",
      " 3   tag         2474 non-null   object\n",
      "dtypes: int64(1), object(3)\n",
      "memory usage: 77.4+ KB\n",
      "None\n"
     ]
    },
    {
     "data": {
      "text/html": [
       "<div>\n",
       "<style scoped>\n",
       "    .dataframe tbody tr th:only-of-type {\n",
       "        vertical-align: middle;\n",
       "    }\n",
       "\n",
       "    .dataframe tbody tr th {\n",
       "        vertical-align: top;\n",
       "    }\n",
       "\n",
       "    .dataframe thead th {\n",
       "        text-align: right;\n",
       "    }\n",
       "</style>\n",
       "<table border=\"1\" class=\"dataframe\">\n",
       "  <thead>\n",
       "    <tr style=\"text-align: right;\">\n",
       "      <th></th>\n",
       "      <th>article_id</th>\n",
       "      <th>topic</th>\n",
       "      <th>sub-topic</th>\n",
       "      <th>tag</th>\n",
       "    </tr>\n",
       "  </thead>\n",
       "  <tbody>\n",
       "    <tr>\n",
       "      <th>0</th>\n",
       "      <td>0</td>\n",
       "      <td>doi-song</td>\n",
       "      <td>to-am</td>\n",
       "      <td>xin_lỗi đi nhiều thế_hệ đã dùng câu này để xử_...</td>\n",
       "    </tr>\n",
       "    <tr>\n",
       "      <th>1</th>\n",
       "      <td>1</td>\n",
       "      <td>doi-song</td>\n",
       "      <td>to-am</td>\n",
       "      <td>một nghiên_cứu của đại_học wisconsinmadison mỹ...</td>\n",
       "    </tr>\n",
       "    <tr>\n",
       "      <th>2</th>\n",
       "      <td>2</td>\n",
       "      <td>doi-song</td>\n",
       "      <td>to-am</td>\n",
       "      <td>các yếu_tố như độ tuổi của trẻ mối quan_hệ giữ...</td>\n",
       "    </tr>\n",
       "    <tr>\n",
       "      <th>3</th>\n",
       "      <td>3</td>\n",
       "      <td>doi-song</td>\n",
       "      <td>to-am</td>\n",
       "      <td>ở tuổi đôi_mươi chị trần thị liên_kết_hôn với ...</td>\n",
       "    </tr>\n",
       "    <tr>\n",
       "      <th>4</th>\n",
       "      <td>4</td>\n",
       "      <td>doi-song</td>\n",
       "      <td>to-am</td>\n",
       "      <td>chị hoàng thị hòa 34 tuổi ở hà nam lấy chồng b...</td>\n",
       "    </tr>\n",
       "  </tbody>\n",
       "</table>\n",
       "</div>"
      ],
      "text/plain": [
       "   article_id     topic sub-topic  \\\n",
       "0           0  doi-song     to-am   \n",
       "1           1  doi-song     to-am   \n",
       "2           2  doi-song     to-am   \n",
       "3           3  doi-song     to-am   \n",
       "4           4  doi-song     to-am   \n",
       "\n",
       "                                                 tag  \n",
       "0  xin_lỗi đi nhiều thế_hệ đã dùng câu này để xử_...  \n",
       "1  một nghiên_cứu của đại_học wisconsinmadison mỹ...  \n",
       "2  các yếu_tố như độ tuổi của trẻ mối quan_hệ giữ...  \n",
       "3  ở tuổi đôi_mươi chị trần thị liên_kết_hôn với ...  \n",
       "4  chị hoàng thị hòa 34 tuổi ở hà nam lấy chồng b...  "
      ]
     },
     "execution_count": 5,
     "metadata": {},
     "output_type": "execute_result"
    }
   ],
   "source": [
    "vnexpress = pd.read_csv('./data/vnexpress/csv/cleaned_vnexpress.csv').drop(columns=['Unnamed: 0'], axis=1)\n",
    "print(vnexpress.info())\n",
    "vnexpress.head()"
   ]
  },
  {
   "cell_type": "code",
   "execution_count": 6,
   "metadata": {},
   "outputs": [
    {
     "data": {
      "text/html": [
       "<div>\n",
       "<style scoped>\n",
       "    .dataframe tbody tr th:only-of-type {\n",
       "        vertical-align: middle;\n",
       "    }\n",
       "\n",
       "    .dataframe tbody tr th {\n",
       "        vertical-align: top;\n",
       "    }\n",
       "\n",
       "    .dataframe thead th {\n",
       "        text-align: right;\n",
       "    }\n",
       "</style>\n",
       "<table border=\"1\" class=\"dataframe\">\n",
       "  <thead>\n",
       "    <tr style=\"text-align: right;\">\n",
       "      <th></th>\n",
       "      <th>article_id</th>\n",
       "      <th>topic</th>\n",
       "      <th>sub-topic</th>\n",
       "      <th>tag</th>\n",
       "    </tr>\n",
       "  </thead>\n",
       "  <tbody>\n",
       "    <tr>\n",
       "      <th>0</th>\n",
       "      <td>0</td>\n",
       "      <td>0</td>\n",
       "      <td>to-am</td>\n",
       "      <td>xin_lỗi đi nhiều thế_hệ đã dùng câu này để xử_...</td>\n",
       "    </tr>\n",
       "    <tr>\n",
       "      <th>1</th>\n",
       "      <td>1</td>\n",
       "      <td>0</td>\n",
       "      <td>to-am</td>\n",
       "      <td>một nghiên_cứu của đại_học wisconsinmadison mỹ...</td>\n",
       "    </tr>\n",
       "    <tr>\n",
       "      <th>2</th>\n",
       "      <td>2</td>\n",
       "      <td>0</td>\n",
       "      <td>to-am</td>\n",
       "      <td>các yếu_tố như độ tuổi của trẻ mối quan_hệ giữ...</td>\n",
       "    </tr>\n",
       "    <tr>\n",
       "      <th>3</th>\n",
       "      <td>3</td>\n",
       "      <td>0</td>\n",
       "      <td>to-am</td>\n",
       "      <td>ở tuổi đôi_mươi chị trần thị liên_kết_hôn với ...</td>\n",
       "    </tr>\n",
       "    <tr>\n",
       "      <th>4</th>\n",
       "      <td>4</td>\n",
       "      <td>0</td>\n",
       "      <td>to-am</td>\n",
       "      <td>chị hoàng thị hòa 34 tuổi ở hà nam lấy chồng b...</td>\n",
       "    </tr>\n",
       "  </tbody>\n",
       "</table>\n",
       "</div>"
      ],
      "text/plain": [
       "   article_id  topic sub-topic  \\\n",
       "0           0      0     to-am   \n",
       "1           1      0     to-am   \n",
       "2           2      0     to-am   \n",
       "3           3      0     to-am   \n",
       "4           4      0     to-am   \n",
       "\n",
       "                                                 tag  \n",
       "0  xin_lỗi đi nhiều thế_hệ đã dùng câu này để xử_...  \n",
       "1  một nghiên_cứu của đại_học wisconsinmadison mỹ...  \n",
       "2  các yếu_tố như độ tuổi của trẻ mối quan_hệ giữ...  \n",
       "3  ở tuổi đôi_mươi chị trần thị liên_kết_hôn với ...  \n",
       "4  chị hoàng thị hòa 34 tuổi ở hà nam lấy chồng b...  "
      ]
     },
     "execution_count": 6,
     "metadata": {},
     "output_type": "execute_result"
    }
   ],
   "source": [
    "news = vnexpress.copy()\n",
    "label_encoder = LabelEncoder()\n",
    "news['topic'] = label_encoder.fit_transform(vnexpress['topic'])\n",
    "vnexpress['tag'] = vnexpress['tag'].apply(lambda x: cleandt.remove_stopword(x, './data/vietnamese-stopwords-dash.txt'))\n",
    "news.head()"
   ]
  },
  {
   "cell_type": "code",
   "execution_count": 7,
   "metadata": {},
   "outputs": [
    {
     "data": {
      "text/plain": [
       "topic\n",
       "giai-tri    616\n",
       "the-thao    508\n",
       "khoa-hoc    449\n",
       "doi-song    363\n",
       "giao-duc    358\n",
       "du-lich     180\n",
       "Name: count, dtype: int64"
      ]
     },
     "execution_count": 7,
     "metadata": {},
     "output_type": "execute_result"
    }
   ],
   "source": [
    "vnexpress['topic'].value_counts()"
   ]
  },
  {
   "cell_type": "markdown",
   "metadata": {},
   "source": [
    "## Split dataset into train and test"
   ]
  },
  {
   "cell_type": "code",
   "execution_count": 91,
   "metadata": {},
   "outputs": [],
   "source": [
    "X = news[['tag']]\n",
    "y = news[['topic']]\n",
    "news_train, news_test, label_train, label_test = train_test_split(X, y, test_size=0.3, random_state=456)"
   ]
  },
  {
   "cell_type": "code",
   "execution_count": 92,
   "metadata": {},
   "outputs": [
    {
     "name": "stdout",
     "output_type": "stream",
     "text": [
      "The length of news_train:  1731 (1731, 1)\n",
      "The length of news_test:  743 (743, 1)\n"
     ]
    }
   ],
   "source": [
    "print(\"The length of news_train: \", len(news_train), news_train.shape)\n",
    "print(\"The length of news_test: \", len(news_test), news_test.shape)"
   ]
  },
  {
   "cell_type": "code",
   "execution_count": 93,
   "metadata": {},
   "outputs": [
    {
     "name": "stdout",
     "output_type": "stream",
     "text": [
      "topic\n",
      "2        421\n",
      "5        363\n",
      "4        313\n",
      "0        259\n",
      "3        247\n",
      "1        128\n",
      "Name: count, dtype: int64\n",
      "topic\n",
      "2        195\n",
      "5        145\n",
      "4        136\n",
      "3        111\n",
      "0        104\n",
      "1         52\n",
      "Name: count, dtype: int64\n"
     ]
    }
   ],
   "source": [
    "print(label_train.value_counts())\n",
    "print(label_test.value_counts())"
   ]
  },
  {
   "cell_type": "markdown",
   "metadata": {},
   "source": [
    "## Re-present text data in numeric vector by pre-train Word2Vec model"
   ]
  },
  {
   "cell_type": "code",
   "execution_count": 11,
   "metadata": {},
   "outputs": [],
   "source": [
    "# Đệm vector cho từng word với số chiều chiều là 128\n",
    "def mean_text_embedding(model, data):\n",
    "    sequences = data['tag'].to_list()\n",
    "    input_gensim = []\n",
    "\n",
    "    for sen in sequences:\n",
    "        input_gensim.append(sen.split())\n",
    "    \n",
    "    text_embeddings = []\n",
    "    for text in input_gensim:\n",
    "        text_embedding = [model.wv[word] for word in text if word in model.wv]\n",
    "        text_embeddings.append(text_embedding)\n",
    "        \n",
    "    # Tính giá trị trung bình cho từng word vector, mỗi giá trị trung bình đại diện cho 1 word\n",
    "    mean_text_embeddings = []\n",
    "    for emebbed in tqdm(text_embeddings):\n",
    "        temp = np.mean(emebbed, axis=1)\n",
    "        mean_text_embeddings.append(list(temp))\n",
    "    \n",
    "    return mean_text_embeddings"
   ]
  },
  {
   "cell_type": "code",
   "execution_count": 25,
   "metadata": {},
   "outputs": [],
   "source": [
    "#1995\n",
    "def text_padding(mean_text_embeddings, max_length):\n",
    "    # Đệm thêm 0 để đủ độ dài trong từng văn bản\n",
    "    mean_text_embeddings_padding = np.array(preprocessing.sequence.pad_sequences(mean_text_embeddings, maxlen=max_length, padding='pre', dtype='float32'))\n",
    "    return mean_text_embeddings_padding"
   ]
  },
  {
   "cell_type": "code",
   "execution_count": 87,
   "metadata": {},
   "outputs": [],
   "source": [
    "def wordseparation(comment):\n",
    "   tokens = comment.split()\n",
    "   return tokens"
   ]
  },
  {
   "cell_type": "code",
   "execution_count": 15,
   "metadata": {},
   "outputs": [],
   "source": [
    "# model = word2vec.Word2Vec.load(\"./model/word.model\")"
   ]
  },
  {
   "cell_type": "code",
   "execution_count": 68,
   "metadata": {},
   "outputs": [
    {
     "name": "stderr",
     "output_type": "stream",
     "text": [
      "100%|██████████| 1731/1731 [00:00<00:00, 3976.87it/s]\n",
      "100%|██████████| 743/743 [00:00<00:00, 5016.39it/s]\n"
     ]
    }
   ],
   "source": [
    "# mean_text_embeddings_train = mean_text_embedding(model, news_train)\n",
    "# mean_text_embeddings_test = mean_text_embedding(model, news_test)"
   ]
  },
  {
   "cell_type": "code",
   "execution_count": 69,
   "metadata": {},
   "outputs": [
    {
     "name": "stdout",
     "output_type": "stream",
     "text": [
      "1995\n",
      "1538\n"
     ]
    }
   ],
   "source": [
    "# print(max([len(i) for i in mean_text_embeddings_train]))\n",
    "# print(max([len(i) for i in mean_text_embeddings_test]))"
   ]
  },
  {
   "cell_type": "code",
   "execution_count": 94,
   "metadata": {},
   "outputs": [
    {
     "name": "stderr",
     "output_type": "stream",
     "text": [
      "d:\\Programming\\Vietnamese-Text-Generator\\.venv\\Lib\\site-packages\\sklearn\\feature_extraction\\text.py:525: UserWarning: The parameter 'token_pattern' will not be used since 'tokenizer' is not None'\n",
      "  warnings.warn(\n"
     ]
    }
   ],
   "source": [
    "# X_test = text_padding(mean_text_embeddings_test, 1995)\n",
    "# X_train = text_padding(mean_text_embeddings_train, 1995)\n",
    "vectorizer = TfidfVectorizer(tokenizer=wordseparation)\n",
    "X_train = vectorizer.fit_transform(news_train['tag'])\n",
    "X_test = vectorizer.transform(news_test['tag'])"
   ]
  },
  {
   "cell_type": "code",
   "execution_count": 96,
   "metadata": {},
   "outputs": [
    {
     "name": "stdout",
     "output_type": "stream",
     "text": [
      "(1731, 31611)\n",
      "(743, 31611)\n"
     ]
    }
   ],
   "source": [
    "print(X_train.shape)\n",
    "print(X_test.shape)"
   ]
  },
  {
   "cell_type": "code",
   "execution_count": 98,
   "metadata": {},
   "outputs": [
    {
     "name": "stdout",
     "output_type": "stream",
     "text": [
      "  (0, 7849)\t0.035098965284999804\n",
      "  (0, 23788)\t0.013985971635846013\n",
      "  (0, 29990)\t0.044974116799641965\n",
      "  (0, 10114)\t0.01913768849369322\n",
      "  (0, 25153)\t0.024378932705083768\n",
      "  (0, 10730)\t0.011208587800616301\n",
      "  (0, 6456)\t0.044974116799641965\n",
      "  (0, 25020)\t0.021020198638928362\n",
      "  (0, 20364)\t0.018326629153701365\n",
      "  (0, 2977)\t0.042625365453505315\n",
      "  (0, 25239)\t0.02621331538391176\n",
      "  (0, 881)\t0.01779838839974824\n",
      "  (0, 25145)\t0.013238316467156699\n",
      "  (0, 30956)\t0.02823096326697607\n",
      "  (0, 526)\t0.03370197774092081\n",
      "  (0, 12084)\t0.008220619558534573\n",
      "  (0, 30819)\t0.015396735009431046\n",
      "  (0, 12575)\t0.035098965284999804\n",
      "  (0, 22542)\t0.044974116799641965\n",
      "  (0, 28949)\t0.0369436829060469\n",
      "  (0, 25207)\t0.044974116799641965\n",
      "  (0, 26221)\t0.007966882635490209\n",
      "  (0, 4437)\t0.0691898631198205\n",
      "  (0, 10690)\t0.06740395548184162\n",
      "  (0, 18239)\t0.007410352534036184\n",
      "  :\t:\n",
      "  (0, 30754)\t0.07469337746240559\n",
      "  (0, 25935)\t0.1193239941918043\n",
      "  (0, 30586)\t0.031328647316520235\n",
      "  (0, 26322)\t0.02736362134484528\n",
      "  (0, 30863)\t0.13480791096368325\n",
      "  (0, 18282)\t0.019260207831889233\n",
      "  (0, 5640)\t0.04136723382278828\n",
      "  (0, 11367)\t0.030826251120590786\n",
      "  (0, 20240)\t0.025468269180785395\n",
      "  (0, 27065)\t0.015891201872598387\n",
      "  (0, 6023)\t0.03690699657142959\n",
      "  (0, 27965)\t0.14030864815331254\n",
      "  (0, 26055)\t0.1140278751071713\n",
      "  (0, 1236)\t0.017289927671327254\n",
      "  (0, 13767)\t0.040958899852844434\n",
      "  (0, 7062)\t0.02656449766631519\n",
      "  (0, 5849)\t0.15171621837382704\n",
      "  (0, 14654)\t0.3597929343971357\n",
      "  (0, 9684)\t0.2248705839982098\n",
      "  (0, 19397)\t0.09195143652591956\n",
      "  (0, 20766)\t0.08525073090701063\n",
      "  (0, 1080)\t0.03135322639478416\n",
      "  (0, 17934)\t0.009584873195301977\n",
      "  (0, 6449)\t0.06515456735369189\n",
      "  (0, 24297)\t0.04745256645128453\n"
     ]
    }
   ],
   "source": [
    "print(X_train[0])"
   ]
  },
  {
   "cell_type": "markdown",
   "metadata": {},
   "source": [
    "## Create text classification model by Naive Bayes"
   ]
  },
  {
   "cell_type": "code",
   "execution_count": 99,
   "metadata": {},
   "outputs": [],
   "source": [
    "parameters = {'n_neighbors':[5, 7, 9, 10, 11, 13, 15, 17]}\n",
    "knn = KNeighborsClassifier()"
   ]
  },
  {
   "cell_type": "code",
   "execution_count": 100,
   "metadata": {},
   "outputs": [
    {
     "name": "stdout",
     "output_type": "stream",
     "text": [
      "Fitting 5 folds for each of 8 candidates, totalling 40 fits\n"
     ]
    },
    {
     "name": "stderr",
     "output_type": "stream",
     "text": [
      "d:\\Programming\\Vietnamese-Text-Generator\\.venv\\Lib\\site-packages\\sklearn\\neighbors\\_classification.py:238: DataConversionWarning: A column-vector y was passed when a 1d array was expected. Please change the shape of y to (n_samples,), for example using ravel().\n",
      "  return self._fit(X, y)\n",
      "d:\\Programming\\Vietnamese-Text-Generator\\.venv\\Lib\\site-packages\\sklearn\\neighbors\\_classification.py:238: DataConversionWarning: A column-vector y was passed when a 1d array was expected. Please change the shape of y to (n_samples,), for example using ravel().\n",
      "  return self._fit(X, y)\n",
      "d:\\Programming\\Vietnamese-Text-Generator\\.venv\\Lib\\site-packages\\sklearn\\neighbors\\_classification.py:238: DataConversionWarning: A column-vector y was passed when a 1d array was expected. Please change the shape of y to (n_samples,), for example using ravel().\n",
      "  return self._fit(X, y)\n",
      "d:\\Programming\\Vietnamese-Text-Generator\\.venv\\Lib\\site-packages\\sklearn\\neighbors\\_classification.py:238: DataConversionWarning: A column-vector y was passed when a 1d array was expected. Please change the shape of y to (n_samples,), for example using ravel().\n",
      "  return self._fit(X, y)\n",
      "d:\\Programming\\Vietnamese-Text-Generator\\.venv\\Lib\\site-packages\\sklearn\\neighbors\\_classification.py:238: DataConversionWarning: A column-vector y was passed when a 1d array was expected. Please change the shape of y to (n_samples,), for example using ravel().\n",
      "  return self._fit(X, y)\n",
      "d:\\Programming\\Vietnamese-Text-Generator\\.venv\\Lib\\site-packages\\sklearn\\neighbors\\_classification.py:238: DataConversionWarning: A column-vector y was passed when a 1d array was expected. Please change the shape of y to (n_samples,), for example using ravel().\n",
      "  return self._fit(X, y)\n",
      "d:\\Programming\\Vietnamese-Text-Generator\\.venv\\Lib\\site-packages\\sklearn\\neighbors\\_classification.py:238: DataConversionWarning: A column-vector y was passed when a 1d array was expected. Please change the shape of y to (n_samples,), for example using ravel().\n",
      "  return self._fit(X, y)\n",
      "d:\\Programming\\Vietnamese-Text-Generator\\.venv\\Lib\\site-packages\\sklearn\\neighbors\\_classification.py:238: DataConversionWarning: A column-vector y was passed when a 1d array was expected. Please change the shape of y to (n_samples,), for example using ravel().\n",
      "  return self._fit(X, y)\n",
      "d:\\Programming\\Vietnamese-Text-Generator\\.venv\\Lib\\site-packages\\sklearn\\neighbors\\_classification.py:238: DataConversionWarning: A column-vector y was passed when a 1d array was expected. Please change the shape of y to (n_samples,), for example using ravel().\n",
      "  return self._fit(X, y)\n",
      "d:\\Programming\\Vietnamese-Text-Generator\\.venv\\Lib\\site-packages\\sklearn\\neighbors\\_classification.py:238: DataConversionWarning: A column-vector y was passed when a 1d array was expected. Please change the shape of y to (n_samples,), for example using ravel().\n",
      "  return self._fit(X, y)\n",
      "d:\\Programming\\Vietnamese-Text-Generator\\.venv\\Lib\\site-packages\\sklearn\\neighbors\\_classification.py:238: DataConversionWarning: A column-vector y was passed when a 1d array was expected. Please change the shape of y to (n_samples,), for example using ravel().\n",
      "  return self._fit(X, y)\n",
      "d:\\Programming\\Vietnamese-Text-Generator\\.venv\\Lib\\site-packages\\sklearn\\neighbors\\_classification.py:238: DataConversionWarning: A column-vector y was passed when a 1d array was expected. Please change the shape of y to (n_samples,), for example using ravel().\n",
      "  return self._fit(X, y)\n",
      "d:\\Programming\\Vietnamese-Text-Generator\\.venv\\Lib\\site-packages\\sklearn\\neighbors\\_classification.py:238: DataConversionWarning: A column-vector y was passed when a 1d array was expected. Please change the shape of y to (n_samples,), for example using ravel().\n",
      "  return self._fit(X, y)\n",
      "d:\\Programming\\Vietnamese-Text-Generator\\.venv\\Lib\\site-packages\\sklearn\\neighbors\\_classification.py:238: DataConversionWarning: A column-vector y was passed when a 1d array was expected. Please change the shape of y to (n_samples,), for example using ravel().\n",
      "  return self._fit(X, y)\n",
      "d:\\Programming\\Vietnamese-Text-Generator\\.venv\\Lib\\site-packages\\sklearn\\neighbors\\_classification.py:238: DataConversionWarning: A column-vector y was passed when a 1d array was expected. Please change the shape of y to (n_samples,), for example using ravel().\n",
      "  return self._fit(X, y)\n",
      "d:\\Programming\\Vietnamese-Text-Generator\\.venv\\Lib\\site-packages\\sklearn\\neighbors\\_classification.py:238: DataConversionWarning: A column-vector y was passed when a 1d array was expected. Please change the shape of y to (n_samples,), for example using ravel().\n",
      "  return self._fit(X, y)\n",
      "d:\\Programming\\Vietnamese-Text-Generator\\.venv\\Lib\\site-packages\\sklearn\\neighbors\\_classification.py:238: DataConversionWarning: A column-vector y was passed when a 1d array was expected. Please change the shape of y to (n_samples,), for example using ravel().\n",
      "  return self._fit(X, y)\n",
      "d:\\Programming\\Vietnamese-Text-Generator\\.venv\\Lib\\site-packages\\sklearn\\neighbors\\_classification.py:238: DataConversionWarning: A column-vector y was passed when a 1d array was expected. Please change the shape of y to (n_samples,), for example using ravel().\n",
      "  return self._fit(X, y)\n",
      "d:\\Programming\\Vietnamese-Text-Generator\\.venv\\Lib\\site-packages\\sklearn\\neighbors\\_classification.py:238: DataConversionWarning: A column-vector y was passed when a 1d array was expected. Please change the shape of y to (n_samples,), for example using ravel().\n",
      "  return self._fit(X, y)\n",
      "d:\\Programming\\Vietnamese-Text-Generator\\.venv\\Lib\\site-packages\\sklearn\\neighbors\\_classification.py:238: DataConversionWarning: A column-vector y was passed when a 1d array was expected. Please change the shape of y to (n_samples,), for example using ravel().\n",
      "  return self._fit(X, y)\n",
      "d:\\Programming\\Vietnamese-Text-Generator\\.venv\\Lib\\site-packages\\sklearn\\neighbors\\_classification.py:238: DataConversionWarning: A column-vector y was passed when a 1d array was expected. Please change the shape of y to (n_samples,), for example using ravel().\n",
      "  return self._fit(X, y)\n",
      "d:\\Programming\\Vietnamese-Text-Generator\\.venv\\Lib\\site-packages\\sklearn\\neighbors\\_classification.py:238: DataConversionWarning: A column-vector y was passed when a 1d array was expected. Please change the shape of y to (n_samples,), for example using ravel().\n",
      "  return self._fit(X, y)\n",
      "d:\\Programming\\Vietnamese-Text-Generator\\.venv\\Lib\\site-packages\\sklearn\\neighbors\\_classification.py:238: DataConversionWarning: A column-vector y was passed when a 1d array was expected. Please change the shape of y to (n_samples,), for example using ravel().\n",
      "  return self._fit(X, y)\n",
      "d:\\Programming\\Vietnamese-Text-Generator\\.venv\\Lib\\site-packages\\sklearn\\neighbors\\_classification.py:238: DataConversionWarning: A column-vector y was passed when a 1d array was expected. Please change the shape of y to (n_samples,), for example using ravel().\n",
      "  return self._fit(X, y)\n",
      "d:\\Programming\\Vietnamese-Text-Generator\\.venv\\Lib\\site-packages\\sklearn\\neighbors\\_classification.py:238: DataConversionWarning: A column-vector y was passed when a 1d array was expected. Please change the shape of y to (n_samples,), for example using ravel().\n",
      "  return self._fit(X, y)\n",
      "d:\\Programming\\Vietnamese-Text-Generator\\.venv\\Lib\\site-packages\\sklearn\\neighbors\\_classification.py:238: DataConversionWarning: A column-vector y was passed when a 1d array was expected. Please change the shape of y to (n_samples,), for example using ravel().\n",
      "  return self._fit(X, y)\n",
      "d:\\Programming\\Vietnamese-Text-Generator\\.venv\\Lib\\site-packages\\sklearn\\neighbors\\_classification.py:238: DataConversionWarning: A column-vector y was passed when a 1d array was expected. Please change the shape of y to (n_samples,), for example using ravel().\n",
      "  return self._fit(X, y)\n",
      "d:\\Programming\\Vietnamese-Text-Generator\\.venv\\Lib\\site-packages\\sklearn\\neighbors\\_classification.py:238: DataConversionWarning: A column-vector y was passed when a 1d array was expected. Please change the shape of y to (n_samples,), for example using ravel().\n",
      "  return self._fit(X, y)\n",
      "d:\\Programming\\Vietnamese-Text-Generator\\.venv\\Lib\\site-packages\\sklearn\\neighbors\\_classification.py:238: DataConversionWarning: A column-vector y was passed when a 1d array was expected. Please change the shape of y to (n_samples,), for example using ravel().\n",
      "  return self._fit(X, y)\n",
      "d:\\Programming\\Vietnamese-Text-Generator\\.venv\\Lib\\site-packages\\sklearn\\neighbors\\_classification.py:238: DataConversionWarning: A column-vector y was passed when a 1d array was expected. Please change the shape of y to (n_samples,), for example using ravel().\n",
      "  return self._fit(X, y)\n",
      "d:\\Programming\\Vietnamese-Text-Generator\\.venv\\Lib\\site-packages\\sklearn\\neighbors\\_classification.py:238: DataConversionWarning: A column-vector y was passed when a 1d array was expected. Please change the shape of y to (n_samples,), for example using ravel().\n",
      "  return self._fit(X, y)\n",
      "d:\\Programming\\Vietnamese-Text-Generator\\.venv\\Lib\\site-packages\\sklearn\\neighbors\\_classification.py:238: DataConversionWarning: A column-vector y was passed when a 1d array was expected. Please change the shape of y to (n_samples,), for example using ravel().\n",
      "  return self._fit(X, y)\n",
      "d:\\Programming\\Vietnamese-Text-Generator\\.venv\\Lib\\site-packages\\sklearn\\neighbors\\_classification.py:238: DataConversionWarning: A column-vector y was passed when a 1d array was expected. Please change the shape of y to (n_samples,), for example using ravel().\n",
      "  return self._fit(X, y)\n",
      "d:\\Programming\\Vietnamese-Text-Generator\\.venv\\Lib\\site-packages\\sklearn\\neighbors\\_classification.py:238: DataConversionWarning: A column-vector y was passed when a 1d array was expected. Please change the shape of y to (n_samples,), for example using ravel().\n",
      "  return self._fit(X, y)\n",
      "d:\\Programming\\Vietnamese-Text-Generator\\.venv\\Lib\\site-packages\\sklearn\\neighbors\\_classification.py:238: DataConversionWarning: A column-vector y was passed when a 1d array was expected. Please change the shape of y to (n_samples,), for example using ravel().\n",
      "  return self._fit(X, y)\n",
      "d:\\Programming\\Vietnamese-Text-Generator\\.venv\\Lib\\site-packages\\sklearn\\neighbors\\_classification.py:238: DataConversionWarning: A column-vector y was passed when a 1d array was expected. Please change the shape of y to (n_samples,), for example using ravel().\n",
      "  return self._fit(X, y)\n",
      "d:\\Programming\\Vietnamese-Text-Generator\\.venv\\Lib\\site-packages\\sklearn\\neighbors\\_classification.py:238: DataConversionWarning: A column-vector y was passed when a 1d array was expected. Please change the shape of y to (n_samples,), for example using ravel().\n",
      "  return self._fit(X, y)\n",
      "d:\\Programming\\Vietnamese-Text-Generator\\.venv\\Lib\\site-packages\\sklearn\\neighbors\\_classification.py:238: DataConversionWarning: A column-vector y was passed when a 1d array was expected. Please change the shape of y to (n_samples,), for example using ravel().\n",
      "  return self._fit(X, y)\n",
      "d:\\Programming\\Vietnamese-Text-Generator\\.venv\\Lib\\site-packages\\sklearn\\neighbors\\_classification.py:238: DataConversionWarning: A column-vector y was passed when a 1d array was expected. Please change the shape of y to (n_samples,), for example using ravel().\n",
      "  return self._fit(X, y)\n"
     ]
    },
    {
     "name": "stdout",
     "output_type": "stream",
     "text": [
      "\n",
      " The best estimator across ALL searched params:\n",
      " {'n_neighbors': 11}\n",
      "\n",
      " The best score across ALL searched params:\n",
      " 0.9110276357215439\n"
     ]
    },
    {
     "name": "stderr",
     "output_type": "stream",
     "text": [
      "d:\\Programming\\Vietnamese-Text-Generator\\.venv\\Lib\\site-packages\\sklearn\\neighbors\\_classification.py:238: DataConversionWarning: A column-vector y was passed when a 1d array was expected. Please change the shape of y to (n_samples,), for example using ravel().\n",
      "  return self._fit(X, y)\n",
      "d:\\Programming\\Vietnamese-Text-Generator\\.venv\\Lib\\site-packages\\sklearn\\neighbors\\_classification.py:238: DataConversionWarning: A column-vector y was passed when a 1d array was expected. Please change the shape of y to (n_samples,), for example using ravel().\n",
      "  return self._fit(X, y)\n"
     ]
    }
   ],
   "source": [
    "grid_mnb = GridSearchCV(estimator=knn, param_grid=parameters, cv=5, n_jobs=1, verbose=1)\n",
    "grid_mnb.fit(X_train, label_train)\n",
    "\n",
    "print(\"\\n The best estimator across ALL searched params:\\n\", grid_mnb.best_params_)\n",
    "print(\"\\n The best score across ALL searched params:\\n\", grid_mnb.best_score_)"
   ]
  },
  {
   "cell_type": "code",
   "execution_count": 101,
   "metadata": {},
   "outputs": [],
   "source": [
    "predictions = grid_mnb.predict(X_test)"
   ]
  },
  {
   "cell_type": "code",
   "execution_count": 102,
   "metadata": {},
   "outputs": [
    {
     "name": "stdout",
     "output_type": "stream",
     "text": [
      "0.5020188425302826\n",
      "0.8143296441204845\n"
     ]
    }
   ],
   "source": [
    "print(mean_squared_error(label_test, predictions))\n",
    "print(r2_score(label_test, predictions))"
   ]
  },
  {
   "cell_type": "code",
   "execution_count": 103,
   "metadata": {},
   "outputs": [
    {
     "data": {
      "text/plain": [
       "<sklearn.metrics._plot.confusion_matrix.ConfusionMatrixDisplay at 0x22fdf15ed50>"
      ]
     },
     "execution_count": 103,
     "metadata": {},
     "output_type": "execute_result"
    },
    {
     "data": {
      "image/png": "[encoded data removed]",
      "text/plain": [
       "<Figure size 640x480 with 1 Axes>"
      ]
     },
     "metadata": {},
     "output_type": "display_data"
    }
   ],
   "source": [
    "cm = confusion_matrix(label_test, predictions)\n",
    "cfm = ConfusionMatrixDisplay(confusion_matrix=cm)\n",
    "cfm.plot(colorbar=False)"
   ]
  },
  {
   "cell_type": "code",
   "execution_count": 104,
   "metadata": {},
   "outputs": [
    {
     "name": "stdout",
     "output_type": "stream",
     "text": [
      "              precision    recall  f1-score   support\n",
      "\n",
      "           0       0.83      0.90      0.87       104\n",
      "           1       0.86      0.83      0.84        52\n",
      "           2       0.91      0.95      0.93       195\n",
      "           3       0.92      0.88      0.90       111\n",
      "           4       0.94      0.87      0.90       136\n",
      "           5       0.98      0.97      0.98       145\n",
      "\n",
      "    accuracy                           0.92       743\n",
      "   macro avg       0.91      0.90      0.90       743\n",
      "weighted avg       0.92      0.92      0.92       743\n",
      "\n"
     ]
    }
   ],
   "source": [
    "print(classification_report(label_test, predictions))"
   ]
  }
 ],
 "metadata": {
  "kernelspec": {
   "display_name": ".venv",
   "language": "python",
   "name": "python3"
  },
  "language_info": {
   "codemirror_mode": {
    "name": "ipython",
    "version": 3
   },
   "file_extension": ".py",
   "mimetype": "text/x-python",
   "name": "python",
   "nbconvert_exporter": "python",
   "pygments_lexer": "ipython3",
   "version": "3.11.1"
  }
 },
 "nbformat": 4,
 "nbformat_minor": 2
}
